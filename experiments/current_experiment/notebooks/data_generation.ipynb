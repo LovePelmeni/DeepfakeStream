{
 "cells": [
  {
   "cell_type": "code",
   "execution_count": null,
   "metadata": {},
   "outputs": [],
   "source": [
    "import os \n",
    "import cv2\n",
    "import numpy\n",
    "import typing"
   ]
  },
  {
   "cell_type": "code",
   "execution_count": null,
   "metadata": {},
   "outputs": [],
   "source": [
    "TRAIN_VIDEOS_PATH = \"experiments/current_experiment/data/videos/\""
   ]
  },
  {
   "cell_type": "markdown",
   "metadata": {},
   "source": [
    "# Selecting size for the data"
   ]
  },
  {
   "cell_type": "code",
   "execution_count": null,
   "metadata": {},
   "outputs": [],
   "source": [
    "TRAINING_SET_LENGTH = 2000\n",
    "VALIDATION_SET_LENGTH = 1000"
   ]
  },
  {
   "cell_type": "markdown",
   "metadata": {},
   "source": [
    "# Video Processing methods"
   ]
  },
  {
   "cell_type": "code",
   "execution_count": null,
   "metadata": {},
   "outputs": [],
   "source": [
    "def load_videos():\n",
    "    paths = []\n",
    "    for file_video in os.listdir(TRAIN_VIDEOS_PATH):\n",
    "        full_path = os.path.join(TRAIN_VIDEOS_PATH, file_video)\n",
    "        paths.append(full_path)\n",
    "    return paths\n",
    "\n",
    "def extract_quality_frames(video_url: str, number_of_imgs: int):\n",
    "    \"\"\"\n",
    "    Function for extracting quality frames\n",
    "    from given video file. Randomly generates \n",
    "    index frames to extract from the file within \n",
    "    the range and then extracts it.\n",
    "    Args:\n",
    "        - number_of_imgs - number of simages to extract\n",
    "        from video\n",
    "    Returns:\n",
    "        - list of image frames\n",
    "    \"\"\"\n",
    "    output_frames = []\n",
    "    video = cv2.VideoCapture()\n",
    "    opened = video.open(filename=video_url)\n",
    "    MAX_FRAMES = int(video.get(propId=cv2.CAP_PROP_FRAME_COUNT))\n",
    "\n",
    "    if not opened: \n",
    "        raise RuntimeError(\"Failed to open video, file may be invalid\")\n",
    "\n",
    "    random_idxs = numpy.random.randint(\n",
    "        low=0, \n",
    "        high=MAX_FRAMES-1, \n",
    "        size=number_of_imgs\n",
    "    )\n",
    "\n",
    "    curr_idx = 0\n",
    "\n",
    "    while len(output_frames) != number_of_imgs and curr_idx < (MAX_FRAMES-1):\n",
    "        extracted, curr_frame = video\n",
    "        if not extracted: raise RuntimeError(\"Failed to extract video frame, file may be damaged\")\n",
    "        if curr_idx == random_idxs[0]:\n",
    "            output_frames.append(curr_frame)\n",
    "            random_idxs.pop(0)\n",
    "        curr_idx = curr_idx + 1\n",
    "    video.release()\n",
    "    return output_frames"
   ]
  },
  {
   "cell_type": "markdown",
   "metadata": {},
   "source": [
    "# Loading videos"
   ]
  },
  {
   "cell_type": "code",
   "execution_count": null,
   "metadata": {},
   "outputs": [],
   "source": [
    "video_paths = numpy.asarray(load_videos())"
   ]
  },
  {
   "cell_type": "markdown",
   "metadata": {},
   "source": [
    "# Splitting videos into subsets of data for training and validation sets"
   ]
  },
  {
   "cell_type": "code",
   "execution_count": null,
   "metadata": {},
   "outputs": [],
   "source": [
    "from sklearn.model_selection import train_test_split\n",
    "train_indexes, val_indexes = train_test_split(\n",
    "    numpy.arange(len(video_paths)), \n",
    "    test_size=0.4\n",
    ")\n",
    "\n",
    "train_videos = video_paths[train_indexes]\n",
    "validation_videos = video_paths[val_indexes]"
   ]
  },
  {
   "cell_type": "markdown",
   "metadata": {},
   "source": [
    "# Extracting video information for building training and validation sets"
   ]
  },
  {
   "cell_type": "code",
   "execution_count": null,
   "metadata": {},
   "outputs": [],
   "source": [
    "train_video_frames = extract_quality_frames(train_videos, number_of_imgs=TRAINING_SET_LENGTH)\n",
    "validation_video_frames = extract_quality_frames(validation_videos, number_of_imgs=VALIDATION_SET_LENGTH)"
   ]
  },
  {
   "cell_type": "markdown",
   "metadata": {},
   "source": [
    "# Defining directories for storing training and validation data"
   ]
  },
  {
   "cell_type": "code",
   "execution_count": null,
   "metadata": {},
   "outputs": [],
   "source": [
    "train_path = os.mkdir(path=\"experiments/current_experiment/data/train_data/\", exists_ok=True)\n",
    "validation_path = os.mkdir(path=\"experiments/current_experiment/data/validation_data/\", exists_ok=True)"
   ]
  },
  {
   "cell_type": "markdown",
   "metadata": {},
   "source": [
    "# Saving training and validation sets to the corresponding directories"
   ]
  },
  {
   "cell_type": "code",
   "execution_count": null,
   "metadata": {},
   "outputs": [],
   "source": [
    "for idx, img in enumerate(train_video_frames):\n",
    "    full_path = os.path.join(\n",
    "        train_path, \n",
    "        \"img%s.png\" % str(idx)\n",
    "    )\n",
    "    cv2.imwrite(filename=full_path, img=img)"
   ]
  },
  {
   "cell_type": "code",
   "execution_count": null,
   "metadata": {},
   "outputs": [],
   "source": [
    "for idx, img in enumerate(train_video_frames):\n",
    "    full_path = os.path.join(\n",
    "        validation_path,\n",
    "        \"img%s.png\" % str(idx)\n",
    "    )\n",
    "    cv2.imwrite(filename=full_path, img=img)"
   ]
  }
 ],
 "metadata": {
  "language_info": {
   "name": "python"
  },
  "orig_nbformat": 4
 },
 "nbformat": 4,
 "nbformat_minor": 2
}
