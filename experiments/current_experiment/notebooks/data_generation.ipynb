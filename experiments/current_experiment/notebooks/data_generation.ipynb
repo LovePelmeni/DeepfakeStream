{
 "cells": [
  {
   "cell_type": "code",
   "execution_count": null,
   "metadata": {},
   "outputs": [],
   "source": [
    "import os \n",
    "import cv2\n",
    "import numpy\n",
    "import typing"
   ]
  },
  {
   "cell_type": "code",
   "execution_count": null,
   "metadata": {},
   "outputs": [],
   "source": [
    "TRAIN_VIDEOS_PATH = \"experiments/current_experiment/data/videos/\""
   ]
  },
  {
   "cell_type": "markdown",
   "metadata": {},
   "source": [
    "# Video Processing methods"
   ]
  },
  {
   "cell_type": "code",
   "execution_count": null,
   "metadata": {},
   "outputs": [],
   "source": [
    "def load_videos(self):\n",
    "    paths = []\n",
    "    for file_video in os.listdir(TRAIN_VIDEOS_PATH):\n",
    "        full_path = os.path.join(TRAIN_VIDEOS_PATH, file_video)\n",
    "        paths.append(full_path)\n",
    "    return paths\n",
    "\n",
    "def split_videos_in_sets(video_urls: numpy.ndarray, test_size_perc: float):\n",
    "    \"\"\"\n",
    "    Function splits video urls array into \n",
    "    training and testing sets, according \n",
    "    to the given proportion of 'test set'.\n",
    "\n",
    "    Args:\n",
    "        - video_urls: list - list of video urls\n",
    "    \"\"\"\n",
    "    if test_size >= 1: raise ValueError('test size cannot be 1 or 0 or any other value, greater than 1')\n",
    "    test_idxs = numpy.random.randint(\n",
    "        low=0, \n",
    "        high=len(video_urls)-1, \n",
    "        size=len(video_urls) * test_size_perc\n",
    "    )\n",
    "    train_video_idxs = numpy.arange(len(video_urls))[~random_test_idxs]\n",
    "    return video_urls\n",
    "    \n",
    "\n",
    "def extract_quality_frames(video_url: str, number_of_imgs: int):\n",
    "    \"\"\"\n",
    "    Function for extracting quality frames\n",
    "    from given video file. Randomly generates \n",
    "    index frames to extract from the file within \n",
    "    the range and then extracts it.\n",
    "    Args:\n",
    "        - number_of_imgs - number of images to extract\n",
    "        from video\n",
    "    Returns:\n",
    "        - list of image frames\n",
    "    \"\"\"\n",
    "    output_frames = []\n",
    "    video = cv2.VideoCapture()\n",
    "    opened = video.open(filename=video_url)\n",
    "    MAX_FRAMES = int(video.get(propId=cv2.CAP_PROP_FRAME_COUNT))\n",
    "\n",
    "    if not opened: \n",
    "        raise RuntimeError(\"Failed to open video, file may be invalid\")\n",
    "\n",
    "    random_idxs = numpy.random.randint(\n",
    "        low=0, \n",
    "        high=MAX_FRAMES-1, \n",
    "        size=number_of_imgs\n",
    "    )\n",
    "\n",
    "    curr_idx = 0\n",
    "\n",
    "    while len(output_frames) != number_of_imgs and curr_idx < (MAX_FRAMES-1):\n",
    "        extracted, curr_frame = video\n",
    "        if not extracted: raise RuntimeError(\"Failed to extract video frame, file may be damaged\")\n",
    "        if curr_idx == random_idxs[0]:\n",
    "            output_frames.append(curr_frame)\n",
    "            random_idxs.pop(0)\n",
    "        curr_idx = curr_idx + 1\n",
    "    video.close()"
   ]
  }
 ],
 "metadata": {
  "language_info": {
   "name": "python"
  },
  "orig_nbformat": 4
 },
 "nbformat": 4,
 "nbformat_minor": 2
}
