{
 "cells": [
  {
   "cell_type": "code",
   "execution_count": null,
   "metadata": {},
   "outputs": [],
   "source": [
    "import numpy\n",
    "import os\n",
    "import torch\n",
    "from PIL import Image\n",
    "import lime \n",
    "import sys\n",
    "import pandas\n",
    "from torch import nn"
   ]
  },
  {
   "cell_type": "code",
   "execution_count": null,
   "metadata": {},
   "outputs": [],
   "source": [
    "sys.path.append(\"../\")"
   ]
  },
  {
   "cell_type": "code",
   "execution_count": null,
   "metadata": {},
   "outputs": [],
   "source": [
    "PREDICTION_STATS_URL = \"prediction_stats/validation_set_pred_stats.csv\""
   ]
  },
  {
   "cell_type": "code",
   "execution_count": null,
   "metadata": {},
   "outputs": [],
   "source": [
    "stats = pandas.read_csv(PREDICTION_STATS_URL)"
   ]
  },
  {
   "cell_type": "code",
   "execution_count": null,
   "metadata": {},
   "outputs": [],
   "source": [
    "local_int_imgs = stats[stats['output_score'] <= stats['baseline_score']]\n",
    "global_int_imgs = stats[~local_int_imgs]"
   ]
  },
  {
   "cell_type": "code",
   "execution_count": null,
   "metadata": {},
   "outputs": [],
   "source": [
    "def load_images(path_url: int):\n",
    "    pass"
   ]
  },
  {
   "cell_type": "markdown",
   "metadata": {},
   "source": [
    "## Loading Images for global interpretation of network performance"
   ]
  },
  {
   "cell_type": "code",
   "execution_count": null,
   "metadata": {},
   "outputs": [],
   "source": [
    "global_imgs = load_images(global_int_imgs)"
   ]
  },
  {
   "cell_type": "markdown",
   "metadata": {},
   "source": [
    "## Loading images for local interpretation of the network performance"
   ]
  },
  {
   "cell_type": "code",
   "execution_count": null,
   "metadata": {},
   "outputs": [],
   "source": [
    "local_imgs = load_images(local_int_imgs)"
   ]
  },
  {
   "cell_type": "code",
   "execution_count": null,
   "metadata": {},
   "outputs": [],
   "source": [
    "import skimage.segmentation \n",
    "import cv2\n",
    "\n",
    "class NetworkPerformanceExplainer(object):\n",
    "    \"\"\"\n",
    "    Class, which leverages quick shift segmentation\n",
    "    algorithm in conjunction with linear models\n",
    "    to achieve LIME interpreter performance\n",
    "\n",
    "    Parameters:\n",
    "    -----------\n",
    "\n",
    "    input_network - Network, used for experiment\n",
    "    input_height - height of the image\n",
    "    image_width - width of the image\n",
    "    \"\"\"\n",
    "    def __init__(self, \n",
    "        input_network: nn.Module, \n",
    "        image_height: int, \n",
    "        image_width: int,\n",
    "        seg_kernel_size: int,\n",
    "        max_seg_dist: int,\n",
    "        seg_ratio: float\n",
    "    ):\n",
    "        self.input_network = input_network \n",
    "        self.image_height = image_height \n",
    "        self.image_width = image_width\n",
    "        self.kernel_size = seg_kernel_size\n",
    "        self.maximum_seg_dist = max_seg_dist \n",
    "        self.seg_ratio = seg_ratio\n",
    "\n",
    "    def _compute_perturbations(self, image):\n",
    "        superpixels = skimage.segmentation.quickshift(\n",
    "            image=image, \n",
    "            kernel_size=self.kernel_size, \n",
    "            max_dist=self.maximum_seg_dist, \n",
    "            ratio=self.seg_ratio\n",
    "        )\n",
    "        print(\"computed number of pixels: \", numpy.unique(superpixels).shape[0])\n",
    "        return superpixels\n",
    "\n",
    "    def perturb_image(self, \n",
    "        image: numpy.ndarray, \n",
    "        perturbation: numpy.ndarray, \n",
    "        img_segments: numpy.ndarray\n",
    "    ):\n",
    "        active_pixels = numpy.where(perturbation == 1)[0]\n",
    "        mask = numpy.zeros(shape=image.shape)\n",
    "\n",
    "        for pixel in active_pixels:\n",
    "            mask[img_segments == pixel] = 1\n",
    "\n",
    "        pert_img = numpy.copy(image)\n",
    "        pert_img = cv2.bitwise_and(src1=pert_img, src2=mask)\n",
    "        return pert_img\n",
    "    \n",
    "    def explain_local(self, input_img: numpy.ndarray):\n",
    "        pass \n",
    "\n",
    "    def explain_global(self, input_img: numpy.ndarray):\n",
    "        pass"
   ]
  },
  {
   "cell_type": "code",
   "execution_count": null,
   "metadata": {},
   "outputs": [],
   "source": []
  }
 ],
 "metadata": {
  "language_info": {
   "name": "python"
  },
  "orig_nbformat": 4
 },
 "nbformat": 4,
 "nbformat_minor": 2
}
